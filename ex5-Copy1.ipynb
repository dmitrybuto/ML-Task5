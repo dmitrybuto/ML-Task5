{
 "cells": [
  {
   "cell_type": "code",
   "execution_count": 74,
   "metadata": {},
   "outputs": [
    {
     "name": "stdout",
     "output_type": "stream",
     "text": [
      "male      577\n",
      "female    314\n",
      "Name: Sex, dtype: int64\n",
      "female    233\n",
      "male      109\n",
      "Name: Sex, dtype: int64\n",
      "S    217\n",
      "C     93\n",
      "Q     30\n",
      "Name: Embarked, dtype: int64\n",
      "1    136\n",
      "3    119\n",
      "2     87\n",
      "Name: Pclass, dtype: int64\n",
      "Cabin       687\n",
      "Age         177\n",
      "Embarked      2\n",
      "dtype: int64\n"
     ]
    },
    {
     "data": {
      "text/plain": [
       "Survived      0\n",
       "Pclass        0\n",
       "Name          0\n",
       "Sex           0\n",
       "Age           0\n",
       "SibSp         0\n",
       "Parch         0\n",
       "Ticket        0\n",
       "Fare          0\n",
       "Cabin       687\n",
       "Embarked      2\n",
       "dtype: int64"
      ]
     },
     "execution_count": 74,
     "metadata": {},
     "output_type": "execute_result"
    },
    {
     "data": {
      "image/png": "[encoded data removed]",
      "text/plain": [
       "<Figure size 432x288 with 1 Axes>"
      ]
     },
     "metadata": {
      "needs_background": "light"
     },
     "output_type": "display_data"
    }
   ],
   "source": [
    "import os\n",
    "import numpy as np\n",
    "import pandas as pd\n",
    "import seaborn as sns\n",
    "import matplotlib.pyplot as plt\n",
    "\n",
    "from sklearn.pipeline import Pipeline\n",
    "from sklearn.compose import ColumnTransformer\n",
    "from sklearn.model_selection import train_test_split, cross_validate\n",
    "from sklearn.metrics import plot_confusion_matrix, accuracy_score\n",
    "from sklearn.linear_model import SGDClassifier\n",
    "from sklearn.preprocessing import StandardScaler, OneHotEncoder\n",
    "PATH = \"./data/\"\n",
    "data = pd.read_csv(os.path.join(PATH, 'titanic', 'train.csv')).set_index('PassengerId')\n",
    "data.head()\n",
    "#EDA (0.5 points) \n",
    "mf=data.Sex.value_counts()\n",
    "print(mf)\n",
    "survivalmf=data.loc[(data.Survived == 1)].Sex.value_counts()\n",
    "print(survivalmf)\n",
    "#Существует прямая пропорциональность между полом и количеством выживших, так из 577 мужчин выжило всего лишь 109. В свою очередь женщины более живучие, так из 314 выжили 233. Возможно есть другие факторы влияюзие на такие показатели (класс кают, расположение кают, возраст). Но в целом биологически установленно,что женщины значительно меньше терябт тепла и практические всегда, во всех катастрофах связанных с водой выживают в большем количестве=))\n",
    "#(1 point)\n",
    "survivalmfEmb=data.loc[(data.Survived == 1) ].Embarked.value_counts()                 \n",
    "print(survivalmfEmb)\n",
    "survivalmfclass=data.loc[(data.Survived == 1) ].Pclass.value_counts()\n",
    "print(survivalmfclass)\n",
    "data['Age'].plot(kind=\"hist\")\n",
    "plt.title('возраст');\n",
    "#\"the safest\" class is 1st\n",
    "#\"the safest\" Port of Embarkation is S(Southampton)\n",
    "#Modelling(0.5 points)\n",
    "s = data.isna().sum()\n",
    "s = s[s != 0].sort_values(ascending=False)\n",
    "print(s)\n",
    "#df_train = data.fillna(data.median())\n",
    "#df_train.isnull().sum()\n",
    "\n"
   ]
  },
  {
   "cell_type": "code",
   "execution_count": null,
   "metadata": {},
   "outputs": [],
   "source": []
  },
  {
   "cell_type": "code",
   "execution_count": null,
   "metadata": {},
   "outputs": [],
   "source": []
  }
 ],
 "metadata": {
  "kernelspec": {
   "display_name": "Python 3",
   "language": "python",
   "name": "python3"
  },
  "language_info": {
   "codemirror_mode": {
    "name": "ipython",
    "version": 3
   },
   "file_extension": ".py",
   "mimetype": "text/x-python",
   "name": "python",
   "nbconvert_exporter": "python",
   "pygments_lexer": "ipython3",
   "version": "3.8.5"
  }
 },
 "nbformat": 4,
 "nbformat_minor": 4
}
